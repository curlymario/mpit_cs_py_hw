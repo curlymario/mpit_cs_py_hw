{
 "cells": [
  {
   "cell_type": "markdown",
   "metadata": {},
   "source": [
    "## Вступление\n",
    "\n",
    "Эта работа посвящена рассмотрению понятия асимптотической сложности алгоритмов на конкретных примерах. Грубо говоря, асимптотическая сложность алгоритма — это количество операций, из которых этот алгоритм состоит. В ходе работы вы напишете несколько различных алгоритмов, которые в силу различной вычислительной сложности будут выполняться за разное количество времени.\n",
    "\n",
    "\n",
    "## Начало работы\n",
    "\n",
    "Эта работа выполняется при помощи **Jupyter Notebook** — интерактивной «тетрадки», которая позволяет хранить текст, код, графики и т.д.\n",
    "\n",
    "Первым делом подключим необходимые нам модули:"
   ]
  },
  {
   "cell_type": "code",
   "execution_count": 22,
   "metadata": {},
   "outputs": [],
   "source": [
    "import matplotlib\n",
    "import random\n",
    "import math\n",
    "import util\n",
    "%matplotlib inline"
   ]
  },
  {
   "cell_type": "markdown",
   "metadata": {},
   "source": [
    "Мы не будем детально останавливаться на том, за что именно отвечают эти модули, поскольку к самой работе это имеет весьма опосредованное отношение.\n",
    "\n",
    "# Задача «для разогрева»\n",
    "\n",
    "### Задание №1: числа Фибоначчи\n",
    "\n",
    "Напишите рекурсивную реализацию функции, вычисляющей числа Фибоначчи. Для этого допишите тело функции ниже:"
   ]
  },
  {
   "cell_type": "code",
   "execution_count": 2,
   "metadata": {},
   "outputs": [],
   "source": [
    "def recursive_fib(n):\n",
    "    if n <= 1:\n",
    "        return n\n",
    "    return recursive_fib(n-1) + recursive_fib(n-2)"
   ]
  },
  {
   "cell_type": "markdown",
   "metadata": {},
   "source": [
    "Проверьте, что функция работает корректно:"
   ]
  },
  {
   "cell_type": "code",
   "execution_count": 3,
   "metadata": {},
   "outputs": [],
   "source": [
    "assert recursive_fib(0) == 0\n",
    "assert recursive_fib(1) == 1\n",
    "assert recursive_fib(9) == 34"
   ]
  },
  {
   "cell_type": "markdown",
   "metadata": {},
   "source": [
    "Теперь напишите рекурсивную реализацию, но с использованием дополнительного массива в роли кэша, в котором хранятся уже вычисленные значения:"
   ]
  },
  {
   "cell_type": "code",
   "execution_count": 4,
   "metadata": {},
   "outputs": [],
   "source": [
    "def recursive_fib_with_cache(n, cache=None):\n",
    "    if n <= 1:\n",
    "        return n\n",
    "    cache = recursive_fib(n-1) + recursive_fib(n-2)\n",
    "    return cache"
   ]
  },
  {
   "cell_type": "markdown",
   "metadata": {},
   "source": [
    "Убедитесь, что функция работает корректно:"
   ]
  },
  {
   "cell_type": "code",
   "execution_count": 5,
   "metadata": {},
   "outputs": [],
   "source": [
    "assert recursive_fib(0) == 0\n",
    "assert recursive_fib(1) == 1\n",
    "assert recursive_fib(9) == 34"
   ]
  },
  {
   "cell_type": "markdown",
   "metadata": {},
   "source": [
    "И, наконец, напишите нерекурсивную реализацию функции:"
   ]
  },
  {
   "cell_type": "code",
   "execution_count": 6,
   "metadata": {},
   "outputs": [],
   "source": [
    "def fib(n):\n",
    "    f = 0\n",
    "    for i in range(n+1):\n",
    "        f += i\n",
    "    return f"
   ]
  },
  {
   "cell_type": "markdown",
   "metadata": {},
   "source": [
    "Проверьте правильность реализации:"
   ]
  },
  {
   "cell_type": "code",
   "execution_count": 7,
   "metadata": {},
   "outputs": [],
   "source": [
    "assert recursive_fib(0) == 0\n",
    "assert recursive_fib(1) == 1\n",
    "assert recursive_fib(9) == 34"
   ]
  },
  {
   "cell_type": "markdown",
   "metadata": {},
   "source": [
    "А теперь давайте посмотрим на скорость работы написанных выше функций:"
   ]
  },
  {
   "cell_type": "code",
   "execution_count": 8,
   "metadata": {},
   "outputs": [
    {
     "data": {
      "image/png": "[encoded data removed]",
      "text/plain": [
       "<Figure size 432x288 with 1 Axes>"
      ]
     },
     "metadata": {
      "needs_background": "light"
     },
     "output_type": "display_data"
    }
   ],
   "source": [
    "util.plot_fib_results(\n",
    "    ('Рекурсивная реализация', recursive_fib),\n",
    "    ('Рекурсивная реализация с кэшем', recursive_fib_with_cache),\n",
    "    ('Реализация при помощи цикла', fib)\n",
    ")"
   ]
  },
  {
   "cell_type": "markdown",
   "metadata": {},
   "source": [
    "Можно видеть, что самой быстрой является реализация при помощи цикла.\n",
    "**Вопрос**: какова асимптотическая сложность реализованных алгоритмов?\n",
    "\n",
    "# Сортировки\n",
    "\n",
    "Здесь и далее мы предполагаем, что все функции сортировки упорядочивают исходный массив по возрастания. Функции сортировки в этой работе должны изменять переданный массив, а не возвращать новый.\n",
    "\n",
    "### Задание №2: сортировка пузырьком\n",
    "\n",
    "Напишите обычную реализацию сортировки пузырьком:"
   ]
  },
  {
   "cell_type": "code",
   "execution_count": 17,
   "metadata": {},
   "outputs": [],
   "source": [
    "def bubble_sort(a):\n",
    "    N = len(a)\n",
    "    for bypass in range(1, N):\n",
    "        for k in range (0, N-bypass):\n",
    "            if a[k] > a[k+1]:\n",
    "                a[k], a[k+1] = a[k+1], a[k]"
   ]
  },
  {
   "cell_type": "markdown",
   "metadata": {},
   "source": [
    "Убедитесь, что сортировка написана верно:"
   ]
  },
  {
   "cell_type": "code",
   "execution_count": 18,
   "metadata": {},
   "outputs": [],
   "source": [
    "a = [5, 4, 3, 2, 1]\n",
    "b = [1, 2, 3, 5, 1, 6, 7, 8, 3, 4, 3, 0, 1, 2, 6, 1, 2, 3]\n",
    "bubble_sort(a)\n",
    "bubble_sort(b)\n",
    "assert util.is_sorted(a)\n",
    "assert util.is_sorted(b)"
   ]
  },
  {
   "cell_type": "markdown",
   "metadata": {},
   "source": [
    "Особенность обычной реализации пузырьковой сортировки состоит в том, что она «не замечает» отсортированности массива. Это означает, что даже если массив уже отсортирован, алгоритм всё равно будет выполнен от начала и до конца. Чтобы этого избежать, можно добавить специальный флаг, показывающий, была ли за прошлый проход выполнена хоть одна перестановка. Если перестановок не было, значит, массив уже отстортирован. Напишите улучшенную реализацию сортировки пузырьком:"
   ]
  },
  {
   "cell_type": "code",
   "execution_count": 19,
   "metadata": {},
   "outputs": [],
   "source": [
    "def bubble_sort_adaptive(a):\n",
    "    N = len(a)\n",
    "    f = True\n",
    "    for bypass in range(1, N):\n",
    "        if f:\n",
    "            f = False\n",
    "            for k in range (0, N-bypass):\n",
    "                if a[k] > a[k+1]:\n",
    "                    a[k], a[k+1] = a[k+1], a[k]\n",
    "                    f = True"
   ]
  },
  {
   "cell_type": "markdown",
   "metadata": {},
   "source": [
    "Проверьте свою реализацию:"
   ]
  },
  {
   "cell_type": "code",
   "execution_count": 20,
   "metadata": {},
   "outputs": [],
   "source": [
    "a = [5, 4, 3, 2, 1]\n",
    "b = [1, 2, 3, 5, 1, 6, 7, 8, 3, 4, 3, 0, 1, 2, 6, 1, 2, 3]\n",
    "bubble_sort_adaptive(a)\n",
    "bubble_sort_adaptive(b)\n",
    "assert util.is_sorted(a)\n",
    "assert util.is_sorted(b)"
   ]
  },
  {
   "cell_type": "markdown",
   "metadata": {},
   "source": [
    "А теперь сравните скорость работы двух реализаций одного алгоритма при различных входных данных:"
   ]
  },
  {
   "cell_type": "code",
   "execution_count": 21,
   "metadata": {},
   "outputs": [
    {
     "data": {
      "image/png": "[encoded data removed]",
      "text/plain": [
       "<Figure size 432x288 with 1 Axes>"
      ]
     },
     "metadata": {
      "needs_background": "light"
     },
     "output_type": "display_data"
    },
    {
     "data": {
      "image/png": "[encoded data removed]",
      "text/plain": [
       "<Figure size 432x288 with 1 Axes>"
      ]
     },
     "metadata": {
      "needs_background": "light"
     },
     "output_type": "display_data"
    },
    {
     "data": {
      "image/png": "[encoded data removed]",
      "text/plain": [
       "<Figure size 432x288 with 1 Axes>"
      ]
     },
     "metadata": {
      "needs_background": "light"
     },
     "output_type": "display_data"
    }
   ],
   "source": [
    "util.plot_bubble_sort_results(\n",
    "    ('Обычная реализация', bubble_sort),\n",
    "    ('Реализация с проверкой на отсортированность', bubble_sort_adaptive)\n",
    ")"
   ]
  },
  {
   "cell_type": "markdown",
   "metadata": {},
   "source": [
    "**Вопрос**: какие выводы можно сделать из полученных результатов?\n",
    "\n",
    "### Задание №3: быстрая сортировка\n",
    "\n",
    "Напишите реализацию быстрой сортировки, использую первый элемент в качестве опорного."
   ]
  },
  {
   "cell_type": "code",
   "execution_count": 23,
   "metadata": {},
   "outputs": [],
   "source": [
    "def quick_sort_first(a):\n",
    "    if len(a) <= 1:\n",
    "        return\n",
    "    barrier = a[0]\n",
    "    L = []             \n",
    "    M = []\n",
    "    R = []\n",
    "    for x in a:\n",
    "        if x < barrier:\n",
    "            L.append(x)\n",
    "        elif x == barrier:\n",
    "            M.append(x)\n",
    "        else: # x > barrier\n",
    "            R.append(x)\n",
    "    quick_sort_first(L)\n",
    "    quick_sort_first(R)\n",
    "    k = 0\n",
    "    for x in L+M+R: \n",
    "        a[k] = x\n",
    "        k += 1"
   ]
  },
  {
   "cell_type": "markdown",
   "metadata": {},
   "source": [
    "Проверьте свою реализацию:"
   ]
  },
  {
   "cell_type": "code",
   "execution_count": 24,
   "metadata": {},
   "outputs": [],
   "source": [
    "a = [5, 4, 3, 2, 1]\n",
    "b = [1, 2, 3, 5, 1, 6, 7, 8, 3, 4, 3, 0, 1, 2, 6, 1, 2, 3]\n",
    "quick_sort_first(a)\n",
    "quick_sort_first(b)\n",
    "assert util.is_sorted(a)\n",
    "assert util.is_sorted(b)"
   ]
  },
  {
   "cell_type": "markdown",
   "metadata": {},
   "source": [
    "Как вы знаете, скорость работы алгоритма быстрой сортировки напрямую зависит от способа выбора опорного элемента. Поэтому реализуем ещё два варианта. Сначала будем выбирать в качестве опорного элемента средний:"
   ]
  },
  {
   "cell_type": "code",
   "execution_count": 25,
   "metadata": {},
   "outputs": [],
   "source": [
    "def quick_sort_middle(a):\n",
    "    if len(a) <= 1:\n",
    "        return\n",
    "    barrier = a[len(a)//2]\n",
    "    L = []             \n",
    "    M = []\n",
    "    R = []\n",
    "    for x in a:\n",
    "        if x < barrier:\n",
    "            L.append(x)\n",
    "        elif x == barrier:\n",
    "            M.append(x)\n",
    "        else: # x > barrier\n",
    "            R.append(x)\n",
    "    quick_sort_first(L)\n",
    "    quick_sort_first(R)\n",
    "    k = 0\n",
    "    for x in L+M+R: \n",
    "        a[k] = x\n",
    "        k += 1"
   ]
  },
  {
   "cell_type": "markdown",
   "metadata": {},
   "source": [
    "Проверяем реализацию:"
   ]
  },
  {
   "cell_type": "code",
   "execution_count": 26,
   "metadata": {},
   "outputs": [],
   "source": [
    "a = [5, 4, 3, 2, 1]\n",
    "b = [1, 2, 3, 5, 1, 6, 7, 8, 3, 4, 3, 0, 1, 2, 6, 1, 2, 3]\n",
    "quick_sort_middle(a)\n",
    "quick_sort_middle(b)\n",
    "assert util.is_sorted(a)\n",
    "assert util.is_sorted(b)"
   ]
  },
  {
   "cell_type": "markdown",
   "metadata": {},
   "source": [
    "А теперь в качестве опорного элемента выбираем произвольный элемент (при помощи вызова `random.choice(a)`):"
   ]
  },
  {
   "cell_type": "code",
   "execution_count": 27,
   "metadata": {},
   "outputs": [],
   "source": [
    "def quick_sort_random(a):\n",
    "    if len(a) <= 1:\n",
    "        return\n",
    "    barrier = random.choice(a)\n",
    "    L = []             \n",
    "    M = []\n",
    "    R = []\n",
    "    for x in a:\n",
    "        if x < barrier:\n",
    "            L.append(x)\n",
    "        elif x == barrier:\n",
    "            M.append(x)\n",
    "        else: # x > barrier\n",
    "            R.append(x)\n",
    "    quick_sort_first(L)\n",
    "    quick_sort_first(R)\n",
    "    k = 0\n",
    "    for x in L+M+R: \n",
    "        a[k] = x\n",
    "        k += 1"
   ]
  },
  {
   "cell_type": "markdown",
   "metadata": {},
   "source": [
    "Проверяем реализацию:"
   ]
  },
  {
   "cell_type": "code",
   "execution_count": 28,
   "metadata": {},
   "outputs": [],
   "source": [
    "a = [5, 4, 3, 2, 1]\n",
    "b = [1, 2, 3, 5, 1, 6, 7, 8, 3, 4, 3, 0, 1, 2, 6, 1, 2, 3]\n",
    "quick_sort_random(a)\n",
    "quick_sort_random(b)\n",
    "assert util.is_sorted(a)\n",
    "assert util.is_sorted(b)"
   ]
  },
  {
   "cell_type": "markdown",
   "metadata": {},
   "source": [
    "Сравним скорости работы трёх реализаций на различных входных данных:"
   ]
  },
  {
   "cell_type": "code",
   "execution_count": null,
   "metadata": {},
   "outputs": [],
   "source": [
    "util.plot_quick_sort_results(\n",
    "    ('Первый элемент в качестве опорного', quick_sort_first),\n",
    "    ('Средний элемент в качестве опорного', quick_sort_middle),\n",
    "    ('Произвольный элемент в качестве опорного', quick_sort_random)\n",
    ")"
   ]
  },
  {
   "cell_type": "markdown",
   "metadata": {},
   "source": [
    "**Вопрос**: какую асимптотическую сложность имеют эти реализации на разных входных данных? Чем это объясняется?\n",
    "\n",
    "### Задание №4: сортировка слиянием\n",
    "\n",
    "Напишите реализацию сортировки слиянием:"
   ]
  },
  {
   "cell_type": "code",
   "execution_count": null,
   "metadata": {},
   "outputs": [],
   "source": [
    "def merge(a, b):\n",
    "    C = []\n",
    "    i = k = 0\n",
    "    while i < len(a) and k < len(b):\n",
    "        if a[i] <= b[k]:               \n",
    "            C.append(a[i])\n",
    "            i += 1\n",
    "        else:\n",
    "            C.append(b[k])\n",
    "            k += 1\n",
    "    while i < len(a):                   \n",
    "        C.append(a[i])\n",
    "        i += 1\n",
    "    while k < len(b):                   \n",
    "        C.append(b[k])\n",
    "        k += 1\n",
    "    return C\n",
    "\n",
    "\n",
    "def merge_sort(a):\n",
    "    if len(a) <= 1:\n",
    "        return\n",
    "    middle = len(a)//2\n",
    "    L = [a[i] for i in range(middle)]\n",
    "    R = [a[i] for i in range(middle, len(A))]\n",
    "    merge_sort(L)\n",
    "    merge_sort(R)\n",
    "    C = merge(L, R)\n",
    "    for i in range(len(a)):\n",
    "        a[i] = C[i]"
   ]
  },
  {
   "cell_type": "markdown",
   "metadata": {},
   "source": [
    "Проверьте корректность реализации:"
   ]
  },
  {
   "cell_type": "code",
   "execution_count": null,
   "metadata": {},
   "outputs": [],
   "source": [
    "a = [5, 4, 3, 2, 1]\n",
    "merge_sort(a)\n",
    "assert util.is_sorted(a)"
   ]
  },
  {
   "cell_type": "markdown",
   "metadata": {},
   "source": [
    "А теперь сравним скорость работы трёх написанных нами алгоритмов:"
   ]
  },
  {
   "cell_type": "code",
   "execution_count": null,
   "metadata": {},
   "outputs": [],
   "source": [
    "util.plot_sort_results(\n",
    "    ('Быстрая сортировка: произвольный элемент в качестве опорного', quick_sort_random),\n",
    "    ('Сортировка слиянием', merge_sort),\n",
    "    ('Сортировка пузырьком: обычная реализация', bubble_sort),\n",
    ")\n",
    "util.plot_sort_results(\n",
    "    ('Быстрая сортировка: первый элемент в качестве опорного', quick_sort_first),\n",
    "    ('Сортировка слиянием', merge_sort),\n",
    "    ('Сортировка пузырьком: пеализация с проверкой на отсортированность', bubble_sort),\n",
    ")"
   ]
  },
  {
   "cell_type": "markdown",
   "metadata": {},
   "source": [
    "**Вопрос**: какие выводы можно сделать из полученных результатов? В чём принципиальное отличие сортировки слиянием от двух других рассмотренных?\n",
    "\n",
    "# Поиск элемента\n",
    "\n",
    "Теперь перейдём к алгоритмам поиска элемента в массиве.\n",
    "\n",
    "### Задание №5: линейный поиск\n",
    "\n",
    "Для начала напишите самую простую реализацию поиска — линейный поиск элемента в массиве:"
   ]
  },
  {
   "cell_type": "code",
   "execution_count": null,
   "metadata": {},
   "outputs": [],
   "source": [
    "def search(a, x):\n",
    "    pass"
   ]
  },
  {
   "cell_type": "markdown",
   "metadata": {},
   "source": [
    "Проверьте корректность реализации:"
   ]
  },
  {
   "cell_type": "code",
   "execution_count": null,
   "metadata": {},
   "outputs": [],
   "source": [
    "assert search([1, 2, 3, 4, 5], 5)  == 4\n",
    "assert search([1, 2, 3, 4, 5], 3)  == 2"
   ]
  },
  {
   "cell_type": "markdown",
   "metadata": {},
   "source": [
    "Когда нам ничего не известно о данных, которые находятся в массиве, придумать какой-то более эффективный алгоритм достаточно сложно. Но если мы знаем какую-то дополнительную информацию о природе данных в массиве, то можно написать более эффективные алгоритмы.\n",
    "\n",
    "### Задание №6: двоичный поиск\n",
    "\n",
    "Если массив упорядочен, то для такого массива можно написать эффективный алгоритм поиска — двоичный (или *бинарный*) поиск. Напишите реализацию этого алгоритма:"
   ]
  },
  {
   "cell_type": "code",
   "execution_count": null,
   "metadata": {},
   "outputs": [],
   "source": [
    "def binary_search(a, x):\n",
    "    pass"
   ]
  },
  {
   "cell_type": "markdown",
   "metadata": {},
   "source": [
    "Проверьте корректность реализации:"
   ]
  },
  {
   "cell_type": "code",
   "execution_count": null,
   "metadata": {},
   "outputs": [],
   "source": [
    "assert binary_search([1, 2, 3, 4, 5], 5)  == 4\n",
    "assert binary_search([1, 2, 3, 4, 5], 3)  == 2\n",
    "assert binary_search([1, 2, 3, 4, 5], 1)  == 0"
   ]
  },
  {
   "cell_type": "markdown",
   "metadata": {},
   "source": [
    "### Задание №7: интерполяционный поиск\n",
    "\n",
    "Если кроме упорядоченности про массив известно, как именно возрастают (убывают) в нём элементы, то алгоритм двоичного поиска можно существенно улучшить. Вместо деления отрезка пополам можно выполнить интерполяцию и получить приблизительное положение элемента в массиве. Такая модификация будет называться *интерполяционным поиском*. Напишите реализацию алгоритма интерполяционного поиска, предполагая, что элементы в массиве возрастают линейно:"
   ]
  },
  {
   "cell_type": "code",
   "execution_count": null,
   "metadata": {},
   "outputs": [],
   "source": [
    "def interpolation_search(a, x):\n",
    "    pass"
   ]
  },
  {
   "cell_type": "markdown",
   "metadata": {},
   "source": [
    "Проверьте свою реализацию:"
   ]
  },
  {
   "cell_type": "code",
   "execution_count": null,
   "metadata": {},
   "outputs": [],
   "source": [
    "assert interpolation_search([1, 2, 3, 4, 5], 5)  == 4\n",
    "assert interpolation_search([1, 2, 3, 4, 5], 3)  == 2\n",
    "assert interpolation_search([1, 2, 3, 4, 5], 1)  == 0"
   ]
  },
  {
   "cell_type": "markdown",
   "metadata": {},
   "source": [
    "Сравните скорость работы трёх алгоритмов поиска на разных входных данных:"
   ]
  },
  {
   "cell_type": "code",
   "execution_count": null,
   "metadata": {},
   "outputs": [],
   "source": [
    "util.plot_search_results_small(\n",
    "    ('Линейный поиск', search),\n",
    "    ('Бинарный поиск', binary_search),\n",
    "    ('Интерполяционный поиск', interpolation_search),\n",
    ")\n",
    "util.plot_search_results_huge(\n",
    "    ('Бинарный поиск', binary_search),\n",
    "    ('Интерполяционный поиск', interpolation_search),\n",
    ")"
   ]
  },
  {
   "cell_type": "markdown",
   "metadata": {},
   "source": [
    "**Вопрос**: что можно сказать об алгоритме интерполяционного поиска? Когда имеет смысл его применять?\n",
    "\n",
    "## Дополнительное задание\n",
    "\n",
    "Если у вас осталось время, то напишите реализацию сортировки слияением с разбиением исходного массива на 3 части. Сравните скорость работы двух реализаций."
   ]
  }
 ],
 "metadata": {
  "kernelspec": {
   "display_name": "Python 3",
   "language": "python",
   "name": "python3"
  },
  "language_info": {
   "codemirror_mode": {
    "name": "ipython",
    "version": 3
   },
   "file_extension": ".py",
   "mimetype": "text/x-python",
   "name": "python",
   "nbconvert_exporter": "python",
   "pygments_lexer": "ipython3",
   "version": "3.7.1"
  }
 },
 "nbformat": 4,
 "nbformat_minor": 2
}
